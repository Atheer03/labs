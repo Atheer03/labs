{
  "nbformat": 4,
  "nbformat_minor": 0,
  "metadata": {
    "colab": {
      "provenance": [],
      "authorship_tag": "ABX9TyOqSH+W399PVsJHRBzS/ci9",
      "include_colab_link": true
    },
    "kernelspec": {
      "name": "python3",
      "display_name": "Python 3"
    },
    "language_info": {
      "name": "python"
    }
  },
  "cells": [
    {
      "cell_type": "markdown",
      "metadata": {
        "id": "view-in-github",
        "colab_type": "text"
      },
      "source": [
        "<a href=\"https://colab.research.google.com/github/Atheer03/labs/blob/main/Untitled0.ipynb\" target=\"_parent\"><img src=\"https://colab.research.google.com/assets/colab-badge.svg\" alt=\"Open In Colab\"/></a>"
      ]
    },
    {
      "cell_type": "code",
      "execution_count": null,
      "metadata": {
        "colab": {
          "base_uri": "https://localhost:8080/"
        },
        "id": "6P8pC2MYLZYO",
        "outputId": "26faccda-d741-4de7-e203-463a08d0c0ed"
      },
      "outputs": [
        {
          "output_type": "stream",
          "name": "stdout",
          "text": [
            "Hello World\n"
          ]
        }
      ],
      "source": [
        "print(\"Hello World\")"
      ]
    },
    {
      "cell_type": "code",
      "source": [
        "print(1+1)"
      ],
      "metadata": {
        "colab": {
          "base_uri": "https://localhost:8080/"
        },
        "id": "RLftjCifLjrO",
        "outputId": "b3ea3d7e-94ed-4892-e2e7-5e2a4e8e4717"
      },
      "execution_count": null,
      "outputs": [
        {
          "output_type": "stream",
          "name": "stdout",
          "text": [
            "2\n"
          ]
        }
      ]
    },
    {
      "cell_type": "markdown",
      "source": [
        "This line is testing"
      ],
      "metadata": {
        "id": "7ymp5DPdLkEB"
      }
    },
    {
      "cell_type": "code",
      "source": [
        "# prompt: write a python code that calculate area of a circle\n",
        "\n",
        "import math\n",
        "\n",
        "def circle_area(radius):\n",
        "  \"\"\"Calculates the area of a circle given its radius.\n",
        "\n",
        "  Args:\n",
        "    radius: The radius of the circle.\n",
        "\n",
        "  Returns:\n",
        "    The area of the circle.\n",
        "  \"\"\"\n",
        "  return math.pi * radius**2\n",
        "# Example usage\n",
        "radius = 5\n",
        "area = circle_area(radius)\n",
        "print(f\"The area of a circle with radius {radius} is: {area}\")\n"
      ],
      "metadata": {
        "colab": {
          "base_uri": "https://localhost:8080/"
        },
        "id": "O_Yy2JoGLvvV",
        "outputId": "1ef9508c-1051-4513-acb1-483fbf7fd621"
      },
      "execution_count": null,
      "outputs": [
        {
          "output_type": "stream",
          "name": "stdout",
          "text": [
            "The area of a circle with radius 5 is: 78.53981633974483\n"
          ]
        }
      ]
    }
  ]
}